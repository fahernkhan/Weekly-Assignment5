{
 "cells": [
  {
   "cell_type": "markdown",
   "metadata": {},
   "source": [
    "# Extract data"
   ]
  },
  {
   "cell_type": "markdown",
   "metadata": {},
   "source": [
    "## Connect to DB"
   ]
  },
  {
   "cell_type": "code",
   "execution_count": 59,
   "metadata": {},
   "outputs": [],
   "source": [
    "import pandas as pd\n",
    "import psycopg2\n",
    "\n",
    "CONNECT_DB = \"host=127.0.0.1 port=5432 dbname=postgres user=postgres password=password123\""
   ]
  },
  {
   "cell_type": "markdown",
   "metadata": {},
   "source": [
    "## Look at the characteristics of the dataset"
   ]
  },
  {
   "cell_type": "code",
   "execution_count": 55,
   "metadata": {},
   "outputs": [],
   "source": [
    "df =pd.read_csv('banksim_artificial.csv')"
   ]
  },
  {
   "cell_type": "code",
   "execution_count": 9,
   "metadata": {},
   "outputs": [
    {
     "data": {
      "text/html": [
       "<div>\n",
       "<style scoped>\n",
       "    .dataframe tbody tr th:only-of-type {\n",
       "        vertical-align: middle;\n",
       "    }\n",
       "\n",
       "    .dataframe tbody tr th {\n",
       "        vertical-align: top;\n",
       "    }\n",
       "\n",
       "    .dataframe thead th {\n",
       "        text-align: right;\n",
       "    }\n",
       "</style>\n",
       "<table border=\"1\" class=\"dataframe\">\n",
       "  <thead>\n",
       "    <tr style=\"text-align: right;\">\n",
       "      <th></th>\n",
       "      <th>step</th>\n",
       "      <th>customer</th>\n",
       "      <th>age</th>\n",
       "      <th>gender</th>\n",
       "      <th>zipcodeOri</th>\n",
       "      <th>merchant</th>\n",
       "      <th>zipMerchant</th>\n",
       "      <th>category</th>\n",
       "      <th>amount</th>\n",
       "      <th>fraud</th>\n",
       "    </tr>\n",
       "  </thead>\n",
       "  <tbody>\n",
       "    <tr>\n",
       "      <th>0</th>\n",
       "      <td>0</td>\n",
       "      <td>'C1093826151'</td>\n",
       "      <td>'4'</td>\n",
       "      <td>'M'</td>\n",
       "      <td>'28007'</td>\n",
       "      <td>'M348934600'</td>\n",
       "      <td>'28007'</td>\n",
       "      <td>'es_transportation'</td>\n",
       "      <td>4.55</td>\n",
       "      <td>0</td>\n",
       "    </tr>\n",
       "    <tr>\n",
       "      <th>1</th>\n",
       "      <td>0</td>\n",
       "      <td>'C352968107'</td>\n",
       "      <td>'2'</td>\n",
       "      <td>'M'</td>\n",
       "      <td>'28007'</td>\n",
       "      <td>'M348934600'</td>\n",
       "      <td>'28007'</td>\n",
       "      <td>'es_transportation'</td>\n",
       "      <td>39.68</td>\n",
       "      <td>0</td>\n",
       "    </tr>\n",
       "    <tr>\n",
       "      <th>2</th>\n",
       "      <td>0</td>\n",
       "      <td>'C2054744914'</td>\n",
       "      <td>'4'</td>\n",
       "      <td>'F'</td>\n",
       "      <td>'28007'</td>\n",
       "      <td>'M1823072687'</td>\n",
       "      <td>'28007'</td>\n",
       "      <td>'es_transportation'</td>\n",
       "      <td>26.89</td>\n",
       "      <td>0</td>\n",
       "    </tr>\n",
       "    <tr>\n",
       "      <th>3</th>\n",
       "      <td>0</td>\n",
       "      <td>'C1760612790'</td>\n",
       "      <td>'3'</td>\n",
       "      <td>'M'</td>\n",
       "      <td>'28007'</td>\n",
       "      <td>'M348934600'</td>\n",
       "      <td>'28007'</td>\n",
       "      <td>'es_transportation'</td>\n",
       "      <td>17.25</td>\n",
       "      <td>0</td>\n",
       "    </tr>\n",
       "    <tr>\n",
       "      <th>4</th>\n",
       "      <td>0</td>\n",
       "      <td>'C757503768'</td>\n",
       "      <td>'5'</td>\n",
       "      <td>'M'</td>\n",
       "      <td>'28007'</td>\n",
       "      <td>'M348934600'</td>\n",
       "      <td>'28007'</td>\n",
       "      <td>'es_transportation'</td>\n",
       "      <td>35.72</td>\n",
       "      <td>0</td>\n",
       "    </tr>\n",
       "  </tbody>\n",
       "</table>\n",
       "</div>"
      ],
      "text/plain": [
       "   step       customer  age gender zipcodeOri       merchant zipMerchant  \\\n",
       "0     0  'C1093826151'  '4'    'M'    '28007'   'M348934600'     '28007'   \n",
       "1     0   'C352968107'  '2'    'M'    '28007'   'M348934600'     '28007'   \n",
       "2     0  'C2054744914'  '4'    'F'    '28007'  'M1823072687'     '28007'   \n",
       "3     0  'C1760612790'  '3'    'M'    '28007'   'M348934600'     '28007'   \n",
       "4     0   'C757503768'  '5'    'M'    '28007'   'M348934600'     '28007'   \n",
       "\n",
       "              category  amount  fraud  \n",
       "0  'es_transportation'    4.55      0  \n",
       "1  'es_transportation'   39.68      0  \n",
       "2  'es_transportation'   26.89      0  \n",
       "3  'es_transportation'   17.25      0  \n",
       "4  'es_transportation'   35.72      0  "
      ]
     },
     "execution_count": 9,
     "metadata": {},
     "output_type": "execute_result"
    }
   ],
   "source": [
    "df.head()"
   ]
  },
  {
   "cell_type": "code",
   "execution_count": 10,
   "metadata": {},
   "outputs": [
    {
     "data": {
      "text/plain": [
       "step             int64\n",
       "customer        object\n",
       "age             object\n",
       "gender          object\n",
       "zipcodeOri      object\n",
       "merchant        object\n",
       "zipMerchant     object\n",
       "category        object\n",
       "amount         float64\n",
       "fraud            int64\n",
       "dtype: object"
      ]
     },
     "execution_count": 10,
     "metadata": {},
     "output_type": "execute_result"
    }
   ],
   "source": [
    "df.dtypes"
   ]
  },
  {
   "cell_type": "markdown",
   "metadata": {},
   "source": [
    "## -Create Table"
   ]
  },
  {
   "cell_type": "code",
   "execution_count": 15,
   "metadata": {},
   "outputs": [
    {
     "name": "stdout",
     "output_type": "stream",
     "text": [
      "Table 'banksim_artificial' created successfully.\n",
      "PostgreSQL connection is closed\n"
     ]
    }
   ],
   "source": [
    "import psycopg2\n",
    "\n",
    "create_table_query = '''CREATE TABLE banksim_artificial (\n",
    "    step INT,\n",
    "    customer VARCHAR,\n",
    "    age VARCHAR,\n",
    "    gender VARCHAR,\n",
    "    zipcodeOri VARCHAR,\n",
    "    merchant VARCHAR,\n",
    "    zipMerchant VARCHAR,\n",
    "    category VARCHAR,\n",
    "    amount NUMERIC,\n",
    "    fraud INT\n",
    ");'''\n",
    "\n",
    "try:\n",
    "    # Make connection to db\n",
    "    cxn = psycopg2.connect(CONNECT_DB)\n",
    "\n",
    "    # Create a cursor to db\n",
    "    cur = cxn.cursor()\n",
    "    \n",
    "    # Send sql query to request\n",
    "    cur.execute(create_table_query)\n",
    "    cxn.commit()  # Commit the transaction\n",
    "    \n",
    "    print(\"Table 'banksim_artificial' created successfully.\")\n",
    "\n",
    "except (Exception, psycopg2.Error) as error:\n",
    "    print(\"Error while connecting to PostgreSQL:\", error)\n",
    "    \n",
    "finally:\n",
    "    # Closing database connection.\n",
    "    if cxn:\n",
    "        cur.close()\n",
    "        cxn.close()\n",
    "        print(\"PostgreSQL connection is closed\")"
   ]
  },
  {
   "cell_type": "markdown",
   "metadata": {},
   "source": [
    "## -Insert dataset to database which was successfully created previously"
   ]
  },
  {
   "cell_type": "code",
   "execution_count": 16,
   "metadata": {},
   "outputs": [
    {
     "name": "stdout",
     "output_type": "stream",
     "text": [
      "PostgreSQL connection is closed\n",
      "banksim_artificial table populated\n"
     ]
    }
   ],
   "source": [
    "try:\n",
    "    # Make connection to db\n",
    "    cxn = psycopg2.connect(CONNECT_DB)\n",
    "    \n",
    "    # Create a cursor to db\n",
    "    cur = cxn.cursor()\n",
    "    \n",
    "    with open('./banksim_artificial.csv', 'r') as f:\n",
    "        # skip first row, header row\n",
    "        next(f)\n",
    "        cur.copy_from(f, 'banksim_artificial', sep=\",\")\n",
    "        cxn.commit()\n",
    "\n",
    "except (Exception, psycopg2.Error) as error :\n",
    "    print (\"Error while connecting to PostgreSQL\", error)\n",
    "    \n",
    "finally:\n",
    "    #closing database connection.\n",
    "    if(cxn):\n",
    "        cur.close()\n",
    "        cxn.close()\n",
    "        print(\"PostgreSQL connection is closed\")\n",
    "        print(\"banksim_artificial table populated\")"
   ]
  },
  {
   "cell_type": "markdown",
   "metadata": {},
   "source": [
    "# Transform"
   ]
  },
  {
   "cell_type": "markdown",
   "metadata": {},
   "source": [
    "## -Transform data with pandas"
   ]
  },
  {
   "cell_type": "markdown",
   "metadata": {},
   "source": [
    "### Select new data from database"
   ]
  },
  {
   "cell_type": "code",
   "execution_count": 35,
   "metadata": {},
   "outputs": [
    {
     "name": "stdout",
     "output_type": "stream",
     "text": [
      "(4, \"'C1634492186'\", \"'3'\", \"'M'\", \"'28007'\", \"'M348934600'\", \"'28007'\", \"'es_transportation'\", Decimal('40.88'), 0)\n",
      "(4, \"'C1857263556'\", \"'1'\", \"'F'\", \"'28007'\", \"'M348934600'\", \"'28007'\", \"'es_transportation'\", Decimal('4.57'), 0)\n",
      "(4, \"'C629808856'\", \"'3'\", \"'M'\", \"'28007'\", \"'M348934600'\", \"'28007'\", \"'es_transportation'\", Decimal('41.57'), 0)\n",
      "(4, \"'C717345438'\", \"'3'\", \"'M'\", \"'28007'\", \"'M1823072687'\", \"'28007'\", \"'es_transportation'\", Decimal('61.43'), 0)\n",
      "(4, \"'C718801730'\", \"'2'\", \"'M'\", \"'28007'\", \"'M348934600'\", \"'28007'\", \"'es_transportation'\", Decimal('64.86'), 0)\n",
      "(4, \"'C251602943'\", \"'2'\", \"'F'\", \"'28007'\", \"'M348934600'\", \"'28007'\", \"'es_transportation'\", Decimal('18.63'), 0)\n",
      "(4, \"'C47809392'\", \"'3'\", \"'M'\", \"'28007'\", \"'M1198415165'\", \"'28007'\", \"'es_wellnessandbeauty'\", Decimal('158.83'), 1)\n",
      "(4, \"'C1490048317'\", \"'6'\", \"'F'\", \"'28007'\", \"'M1198415165'\", \"'28007'\", \"'es_wellnessandbeauty'\", Decimal('541.86'), 1)\n",
      "(4, \"'C1633477199'\", \"'2'\", \"'M'\", \"'28007'\", \"'M348934600'\", \"'28007'\", \"'es_transportation'\", Decimal('39.65'), 0)\n",
      "(4, \"'C427983732'\", \"'4'\", \"'F'\", \"'28007'\", \"'M348934600'\", \"'28007'\", \"'es_transportation'\", Decimal('62.82'), 0)\n",
      "Select all data successfully\n"
     ]
    }
   ],
   "source": [
    "import psycopg2\n",
    "\n",
    "# Make connection to db\n",
    "CONNECT_DB = \"host=127.0.0.1 port=5432 dbname=postgres user=postgres password=password123\"\n",
    "cxn = psycopg2.connect(CONNECT_DB)\n",
    "\n",
    "# Create a cursor to db\n",
    "cur = cxn.cursor()\n",
    "\n",
    "# Query to select all data\n",
    "select_all = 'SELECT * FROM banksim_artificial limit 10;'\n",
    "\n",
    "# Execute the query\n",
    "cur.execute(select_all)\n",
    "\n",
    "# Fetch all rows after executing the query\n",
    "rows = cur.fetchall()\n",
    "\n",
    "# Print all rows\n",
    "for row in rows:\n",
    "    print(row)\n",
    "\n",
    "print(\"Select all data successfully\")"
   ]
  },
  {
   "cell_type": "markdown",
   "metadata": {},
   "source": [
    "### update database and cleansing for make good database"
   ]
  },
  {
   "cell_type": "code",
   "execution_count": 62,
   "metadata": {},
   "outputs": [
    {
     "name": "stdout",
     "output_type": "stream",
     "text": [
      "Data in 'banksim_artificial' updated successfully.\n",
      "PostgreSQL connection is closed\n"
     ]
    }
   ],
   "source": [
    "import psycopg2\n",
    "\n",
    "# Your database connection details\n",
    "CONNECT_DB = {\n",
    "    'dbname': 'postgres',\n",
    "    'user': 'postgres',\n",
    "    'password': 'password123',\n",
    "    'host': '127.0.0.1',\n",
    "    'port': '5432'\n",
    "}\n",
    "\n",
    "# Update query\n",
    "update_query = \"\"\"\n",
    "    UPDATE banksim_artificial\n",
    "    SET \n",
    "        customer = REPLACE(customer, '''', ''),\n",
    "        age = REPLACE(age, '''', ''),\n",
    "        gender = REPLACE(gender, '''', ''),\n",
    "        zipcodeOri = REPLACE(zipcodeOri, '''', ''),\n",
    "        merchant = REPLACE(merchant, '''', ''),\n",
    "        zipMerchant = REPLACE(zipMerchant, '''', ''),\n",
    "        category = REPLACE(category, '''', '');\n",
    "\"\"\"\n",
    "\n",
    "try:\n",
    "    # Make connection to db\n",
    "    cxn = psycopg2.connect(**CONNECT_DB)\n",
    "\n",
    "    # Create a cursor to db\n",
    "    cur = cxn.cursor()\n",
    "    \n",
    "    # Send sql query to request\n",
    "    cur.execute(update_query)\n",
    "    cxn.commit()  # Commit the transaction\n",
    "    \n",
    "    print(\"Data in 'banksim_artificial' updated successfully.\")\n",
    "\n",
    "except (Exception, psycopg2.Error) as error:\n",
    "    print(\"Error while connecting to PostgreSQL:\", error)\n",
    "    \n",
    "finally:\n",
    "    # Closing database connection.\n",
    "    if cxn:\n",
    "        cur.close()\n",
    "        cxn.close()\n",
    "        print(\"PostgreSQL connection is closed\")\n"
   ]
  },
  {
   "cell_type": "code",
   "execution_count": 64,
   "metadata": {},
   "outputs": [
    {
     "name": "stdout",
     "output_type": "stream",
     "text": [
      "(4, 'C435572486', '1', 'F', '28007', 'M480139044', '28007', 'es_health', Decimal('118.15'), 0)\n",
      "(5, 'C150587559', '2', 'F', '28007', 'M480139044', '28007', 'es_health', Decimal('238.14'), 1)\n",
      "(5, 'C23992005', '3', 'M', '28007', 'M547558035', '28007', 'es_fashion', Decimal('100.03'), 0)\n",
      "(5, 'C2007043031', '5', 'F', '28007', 'M85975013', '28007', 'es_food', Decimal('67.46'), 0)\n",
      "(5, 'C875898611', '3', 'F', '28007', 'M840466850', '28007', 'es_tech', Decimal('149.01'), 0)\n",
      "(5, 'C1048588440', '6', 'M', '28007', 'M85975013', '28007', 'es_food', Decimal('7.72'), 0)\n",
      "(5, 'C1051682954', '2', 'F', '28007', 'M348934600', '28007', 'es_transportation', Decimal('38.68'), 0)\n",
      "(5, 'C1956971543', '1', 'F', '28007', 'M348934600', '28007', 'es_transportation', Decimal('29.47'), 0)\n",
      "(6, 'C1034685704', '2', 'F', '28007', 'M50039827', '28007', 'es_health', Decimal('78.59'), 0)\n",
      "(5, 'C2095429384', '2', 'F', '28007', 'M348934600', '28007', 'es_transportation', Decimal('5.83'), 0)\n",
      "Select all data successfully\n"
     ]
    }
   ],
   "source": [
    "import psycopg2\n",
    "\n",
    "# Make connection to db\n",
    "CONNECT_DB = \"host=127.0.0.1 port=5432 dbname=postgres user=postgres password=password123\"\n",
    "cxn = psycopg2.connect(CONNECT_DB)\n",
    "\n",
    "# Create a cursor to db\n",
    "cur = cxn.cursor()\n",
    "\n",
    "# Query to select all data\n",
    "select_all = 'SELECT * FROM banksim_artificial limit 10;'\n",
    "\n",
    "# Execute the query\n",
    "cur.execute(select_all)\n",
    "\n",
    "# Fetch all rows after executing the query\n",
    "rows = cur.fetchall()\n",
    "\n",
    "# Print all rows\n",
    "for row in rows:\n",
    "    print(row)\n",
    "\n",
    "print(\"Select all data successfully\")"
   ]
  },
  {
   "cell_type": "code",
   "execution_count": 74,
   "metadata": {},
   "outputs": [
    {
     "name": "stdout",
     "output_type": "stream",
     "text": [
      "Data types in 'banksim_artificial' table updated successfully.\n",
      "PostgreSQL connection is closed\n"
     ]
    }
   ],
   "source": [
    "import psycopg2\n",
    "\n",
    "# Your database connection details\n",
    "CONNECT_DB = {\n",
    "    'dbname': 'postgres',\n",
    "    'user': 'postgres',\n",
    "    'password': 'password123',\n",
    "    'host': '127.0.0.1',\n",
    "    'port': '5432'\n",
    "}\n",
    "\n",
    "# Update query\n",
    "update_query = \"\"\"\n",
    "    ALTER TABLE banksim_artificial\n",
    "        ALTER COLUMN step TYPE SMALLINT,\n",
    "        ALTER COLUMN customer TYPE VARCHAR(20),\n",
    "        ALTER COLUMN gender TYPE VARCHAR(1),\n",
    "        ALTER COLUMN zipcodeOri TYPE VARCHAR(10),\n",
    "        ALTER COLUMN merchant TYPE VARCHAR(20),\n",
    "        ALTER COLUMN zipMerchant TYPE VARCHAR(10),\n",
    "        ALTER COLUMN category TYPE VARCHAR(50),\n",
    "        ALTER COLUMN amount TYPE FLOAT,\n",
    "        ALTER COLUMN fraud TYPE SMALLINT;\n",
    "\"\"\"\n",
    "\n",
    "try:\n",
    "    # Make connection to db\n",
    "    cxn = psycopg2.connect(**CONNECT_DB)\n",
    "\n",
    "    # Create a cursor to db\n",
    "    cur = cxn.cursor()\n",
    "    \n",
    "    # Send sql query to request\n",
    "    cur.execute(update_query)\n",
    "    cxn.commit()  # Commit the transaction\n",
    "    \n",
    "    print(\"Data types in 'banksim_artificial' table updated successfully.\")\n",
    "\n",
    "except (Exception, psycopg2.Error) as error:\n",
    "    print(\"Error while connecting to PostgreSQL:\", error)\n",
    "    \n",
    "finally:\n",
    "    # Closing database connection.\n",
    "    if cxn:\n",
    "        cur.close()\n",
    "        cxn.close()\n",
    "        print(\"PostgreSQL connection is closed\")\n"
   ]
  },
  {
   "cell_type": "code",
   "execution_count": 75,
   "metadata": {},
   "outputs": [
    {
     "name": "stdout",
     "output_type": "stream",
     "text": [
      "(6, 'C42779194', '6', 'F', '28007', 'M348934600', '28007', 'es_transportation', 43.65, 0)\n",
      "(48, 'C914000857', 'U', 'E', '28007', 'M85975013', '28007', 'es_food', 52.77, 0)\n",
      "(6, 'C679458582', '4', 'F', '28007', 'M348934600', '28007', 'es_transportation', 56.79, 0)\n",
      "(6, 'C332727422', '5', 'M', '28007', 'M1823072687', '28007', 'es_transportation', 3.99, 0)\n",
      "(6, 'C1807970113', '4', 'F', '28007', 'M348934600', '28007', 'es_transportation', 8.24, 0)\n",
      "(6, 'C775533998', '2', 'F', '28007', 'M348934600', '28007', 'es_transportation', 22.87, 0)\n",
      "(6, 'C851156881', '1', 'M', '28007', 'M348934600', '28007', 'es_transportation', 22.35, 0)\n",
      "(6, 'C41461366', '3', 'F', '28007', 'M348934600', '28007', 'es_transportation', 23.19, 0)\n",
      "(6, 'C407219337', '3', 'M', '28007', 'M348934600', '28007', 'es_transportation', 11.17, 0)\n",
      "(6, 'C936853935', '3', 'M', '28007', 'M1823072687', '28007', 'es_transportation', 26.68, 0)\n",
      "Select all data successfully\n"
     ]
    }
   ],
   "source": [
    "import psycopg2\n",
    "\n",
    "# Make connection to db\n",
    "CONNECT_DB = \"host=127.0.0.1 port=5432 dbname=postgres user=postgres password=password123\"\n",
    "cxn = psycopg2.connect(CONNECT_DB)\n",
    "\n",
    "# Create a cursor to db\n",
    "cur = cxn.cursor()\n",
    "\n",
    "# Query to select all data\n",
    "select_all = 'SELECT * FROM banksim_artificial limit 10;'\n",
    "\n",
    "# Execute the query\n",
    "cur.execute(select_all)\n",
    "\n",
    "# Fetch all rows after executing the query\n",
    "rows = cur.fetchall()\n",
    "\n",
    "# Print all rows\n",
    "for row in rows:\n",
    "    print(row)\n",
    "\n",
    "print(\"Select all data successfully\")"
   ]
  },
  {
   "cell_type": "markdown",
   "metadata": {},
   "source": [
    "### Menghitung berapa rata rata jumlah di age dan mengcek apakah ada data yang aneh"
   ]
  },
  {
   "cell_type": "code",
   "execution_count": 79,
   "metadata": {},
   "outputs": [
    {
     "name": "stdout",
     "output_type": "stream",
     "text": [
      "('0', 2452)\n",
      "('1', 58131)\n",
      "('2', 187310)\n",
      "('3', 147131)\n",
      "('4', 109025)\n",
      "('5', 62642)\n",
      "('6', 26774)\n",
      "('U', 1178)\n",
      "Select all data successfully\n"
     ]
    }
   ],
   "source": [
    "import psycopg2\n",
    "\n",
    "# Make connection to db\n",
    "CONNECT_DB = \"host=127.0.0.1 port=5432 dbname=postgres user=postgres password=password123\"\n",
    "cxn = psycopg2.connect(CONNECT_DB)\n",
    "\n",
    "# Create a cursor to db\n",
    "cur = cxn.cursor()\n",
    "\n",
    "# Query to select all data\n",
    "selectage_query = \"\"\"\n",
    "        SELECT age, count(age)\n",
    "            FROM public.banksim_artificial\n",
    "            group by age;\n",
    "\"\"\"\n",
    "\n",
    "# Execute the query\n",
    "cur.execute(selectage_query)\n",
    "\n",
    "# Fetch all rows after executing the query\n",
    "rows = cur.fetchall()\n",
    "\n",
    "# Print all rows\n",
    "for row in rows:\n",
    "    print(row)\n",
    "\n",
    "print(\"Select all data successfully\")"
   ]
  },
  {
   "cell_type": "markdown",
   "metadata": {},
   "source": [
    "### mengubah data age U menjadi 2"
   ]
  },
  {
   "cell_type": "code",
   "execution_count": 80,
   "metadata": {},
   "outputs": [
    {
     "name": "stdout",
     "output_type": "stream",
     "text": [
      "conver U to 2 in 'banksim_artificial' table updated successfully.\n",
      "PostgreSQL connection is closed\n"
     ]
    }
   ],
   "source": [
    "import psycopg2\n",
    "\n",
    "# Your database connection details\n",
    "CONNECT_DB = {\n",
    "    'dbname': 'postgres',\n",
    "    'user': 'postgres',\n",
    "    'password': 'password123',\n",
    "    'host': '127.0.0.1',\n",
    "    'port': '5432'\n",
    "}\n",
    "\n",
    "# Update query\n",
    "update_query = \"\"\"\n",
    "    UPDATE banksim_artificial\n",
    "    SET age = '2'\n",
    "    WHERE age = 'U';\n",
    "\"\"\"\n",
    "\n",
    "try:\n",
    "    # Make connection to db\n",
    "    cxn = psycopg2.connect(**CONNECT_DB)\n",
    "\n",
    "    # Create a cursor to db\n",
    "    cur = cxn.cursor()\n",
    "    \n",
    "    # Send sql query to request\n",
    "    cur.execute(update_query)\n",
    "    cxn.commit()  # Commit the transaction\n",
    "    \n",
    "    print(\"conver U to 2 in 'banksim_artificial' table updated successfully.\")\n",
    "\n",
    "except (Exception, psycopg2.Error) as error:\n",
    "    print(\"Error while connecting to PostgreSQL:\", error)\n",
    "    \n",
    "finally:\n",
    "    # Closing database connection.\n",
    "    if cxn:\n",
    "        cur.close()\n",
    "        cxn.close()\n",
    "        print(\"PostgreSQL connection is closed\")"
   ]
  },
  {
   "cell_type": "markdown",
   "metadata": {},
   "source": [
    "### Jika data sudah oke finalisasi dengan mengubah type data yang sebelumnya salah dengan tepat"
   ]
  },
  {
   "cell_type": "code",
   "execution_count": 94,
   "metadata": {},
   "outputs": [
    {
     "name": "stdout",
     "output_type": "stream",
     "text": [
      "Data types in 'banksim_artificial' table updated successfully.\n",
      "PostgreSQL connection is closed\n"
     ]
    }
   ],
   "source": [
    "import psycopg2\n",
    "\n",
    "# Your database connection details\n",
    "CONNECT_DB = {\n",
    "    'dbname': 'postgres',\n",
    "    'user': 'postgres',\n",
    "    'password': 'password123',\n",
    "    'host': '127.0.0.1',\n",
    "    'port': '5432'\n",
    "}\n",
    "\n",
    "# Update query\n",
    "update_query = \"\"\"\n",
    "   ALTER TABLE banksim_artificial\n",
    "        ALTER COLUMN customer TYPE VARCHAR(255),\n",
    "        ALTER COLUMN merchant TYPE VARCHAR(255),\n",
    "        ALTER COLUMN category TYPE VARCHAR(255)\n",
    "\"\"\"\n",
    "\n",
    "try:\n",
    "    # Make connection to db\n",
    "    cxn = psycopg2.connect(**CONNECT_DB)\n",
    "\n",
    "    # Create a cursor to db\n",
    "    cur = cxn.cursor()\n",
    "    \n",
    "    # Send sql query to request\n",
    "    cur.execute(update_query)\n",
    "    cxn.commit()  # Commit the transaction\n",
    "    \n",
    "    print(\"Data types in 'banksim_artificial' table updated successfully.\")\n",
    "\n",
    "except (Exception, psycopg2.Error) as error:\n",
    "    print(\"Error while connecting to PostgreSQL:\", error)\n",
    "    \n",
    "finally:\n",
    "    # Closing database connection.\n",
    "    if cxn:\n",
    "        cur.close()\n",
    "        cxn.close()\n",
    "        print(\"PostgreSQL connection is closed\")\n"
   ]
  },
  {
   "cell_type": "code",
   "execution_count": 107,
   "metadata": {},
   "outputs": [
    {
     "name": "stdout",
     "output_type": "stream",
     "text": [
      "Data types zipcodeOri and zipMerchant in 'banksim_artificial' table updated successfully.\n",
      "PostgreSQL connection is closed\n"
     ]
    }
   ],
   "source": [
    "import psycopg2\n",
    "\n",
    "# Your database connection details\n",
    "CONNECT_DB = {\n",
    "    'dbname': 'postgres',\n",
    "    'user': 'postgres',\n",
    "    'password': 'password123',\n",
    "    'host': '127.0.0.1',\n",
    "    'port': '5432'\n",
    "}\n",
    "\n",
    "# Update query\n",
    "update_query = \"\"\"\n",
    "        ALTER TABLE banksim_artificial\n",
    "            ALTER COLUMN zipcodeOri TYPE integer USING zipcodeOri::integer,\n",
    "            ALTER COLUMN zipMerchant TYPE integer USING zipMerchant::integer;\n",
    "\"\"\"\n",
    "\n",
    "try:\n",
    "    # Make connection to db\n",
    "    cxn = psycopg2.connect(**CONNECT_DB)\n",
    "\n",
    "    # Create a cursor to db\n",
    "    cur = cxn.cursor()\n",
    "    \n",
    "    # Send sql query to request\n",
    "    cur.execute(update_query)\n",
    "    cxn.commit()  # Commit the transaction\n",
    "    \n",
    "    print(\"Data types zipcodeOri and zipMerchant in 'banksim_artificial' table updated successfully.\")\n",
    "\n",
    "except (Exception, psycopg2.Error) as error:\n",
    "    print(\"Error while connecting to PostgreSQL:\", error)\n",
    "    \n",
    "finally:\n",
    "    # Closing database connection.\n",
    "    if cxn:\n",
    "        cur.close()\n",
    "        cxn.close()\n",
    "        print(\"PostgreSQL connection is closed\")\n"
   ]
  },
  {
   "cell_type": "markdown",
   "metadata": {},
   "source": [
    "### update data type from column age to smallint"
   ]
  },
  {
   "cell_type": "code",
   "execution_count": 108,
   "metadata": {},
   "outputs": [
    {
     "name": "stdout",
     "output_type": "stream",
     "text": [
      "Data age to smallint in 'banksim_artificial' table updated successfully.\n",
      "PostgreSQL connection is closed\n"
     ]
    }
   ],
   "source": [
    "import psycopg2\n",
    "\n",
    "# Your database connection details\n",
    "CONNECT_DB = {\n",
    "    'dbname': 'postgres',\n",
    "    'user': 'postgres',\n",
    "    'password': 'password123',\n",
    "    'host': '127.0.0.1',\n",
    "    'port': '5432'\n",
    "}\n",
    "\n",
    "# Update query\n",
    "update_query = \"\"\"\n",
    "ALTER TABLE banksim_artificial\n",
    "        ALTER COLUMN age TYPE SMALLINT USING CASE WHEN age = '0' THEN 0\n",
    "                                                    WHEN age = '1' THEN 1\n",
    "                                                    WHEN age = '2' THEN 2\n",
    "                                                    WHEN age = '3' THEN 3\n",
    "                                                    WHEN age = '4' THEN 4\n",
    "                                                    WHEN age = '5' THEN 5\n",
    "                                                    WHEN age = '6' THEN 6\n",
    "                                                    ELSE NULL END\n",
    "\"\"\"\n",
    "\n",
    "try:\n",
    "    # Make connection to db\n",
    "    cxn = psycopg2.connect(**CONNECT_DB)\n",
    "\n",
    "    # Create a cursor to db\n",
    "    cur = cxn.cursor()\n",
    "    \n",
    "    # Send sql query to request\n",
    "    cur.execute(update_query)\n",
    "    cxn.commit()  # Commit the transaction\n",
    "    \n",
    "    print(\"Data age to smallint in 'banksim_artificial' table updated successfully.\")\n",
    "\n",
    "except (Exception, psycopg2.Error) as error:\n",
    "    print(\"Error while connecting to PostgreSQL:\", error)\n",
    "    \n",
    "finally:\n",
    "    # Closing database connection.\n",
    "    if cxn:\n",
    "        cur.close()\n",
    "        cxn.close()\n",
    "        print(\"PostgreSQL connection is closed\")\n"
   ]
  },
  {
   "cell_type": "markdown",
   "metadata": {},
   "source": [
    "### pandas data anlyst"
   ]
  },
  {
   "cell_type": "code",
   "execution_count": 114,
   "metadata": {},
   "outputs": [],
   "source": [
    "def pandas_db_server_fetch(sql_query):\n",
    "    cxn = None\n",
    "    try:\n",
    "        # Make connection to db\n",
    "        cxn = psycopg2.connect(**CONNECT_DB)\n",
    "\n",
    "        # Send sql query to request and create dataframe\n",
    "        df = pd.read_sql(sql_query, cxn)\n",
    "\n",
    "    except (Exception, psycopg2.Error) as error:\n",
    "        print(\"Error while connecting to PostgreSQL:\", error)\n",
    "        df = None\n",
    "\n",
    "    finally:\n",
    "        # Closing database connection.\n",
    "        if cxn:\n",
    "            cxn.close()\n",
    "            print(\"PostgreSQL connection is closed\")\n",
    "        return df"
   ]
  },
  {
   "cell_type": "code",
   "execution_count": 118,
   "metadata": {},
   "outputs": [
    {
     "name": "stderr",
     "output_type": "stream",
     "text": [
      "C:\\Users\\FHKHASAN\\AppData\\Local\\Temp\\ipykernel_8240\\3670625772.py:8: UserWarning: pandas only supports SQLAlchemy connectable (engine/connection) or database string URI or sqlite3 DBAPI2 connection. Other DBAPI2 objects are not tested. Please consider using SQLAlchemy.\n",
      "  df = pd.read_sql(sql_query, cxn)\n"
     ]
    },
    {
     "name": "stdout",
     "output_type": "stream",
     "text": [
      "PostgreSQL connection is closed\n"
     ]
    },
    {
     "data": {
      "text/html": [
       "<div>\n",
       "<style scoped>\n",
       "    .dataframe tbody tr th:only-of-type {\n",
       "        vertical-align: middle;\n",
       "    }\n",
       "\n",
       "    .dataframe tbody tr th {\n",
       "        vertical-align: top;\n",
       "    }\n",
       "\n",
       "    .dataframe thead th {\n",
       "        text-align: right;\n",
       "    }\n",
       "</style>\n",
       "<table border=\"1\" class=\"dataframe\">\n",
       "  <thead>\n",
       "    <tr style=\"text-align: right;\">\n",
       "      <th></th>\n",
       "      <th>step</th>\n",
       "      <th>customer</th>\n",
       "      <th>age</th>\n",
       "      <th>gender</th>\n",
       "      <th>zipcodeori</th>\n",
       "      <th>merchant</th>\n",
       "      <th>zipmerchant</th>\n",
       "      <th>category</th>\n",
       "      <th>amount</th>\n",
       "      <th>fraud</th>\n",
       "    </tr>\n",
       "  </thead>\n",
       "  <tbody>\n",
       "    <tr>\n",
       "      <th>0</th>\n",
       "      <td>6</td>\n",
       "      <td>C42779194</td>\n",
       "      <td>6</td>\n",
       "      <td>F</td>\n",
       "      <td>28007</td>\n",
       "      <td>M348934600</td>\n",
       "      <td>28007</td>\n",
       "      <td>es_transportation</td>\n",
       "      <td>43.65</td>\n",
       "      <td>0</td>\n",
       "    </tr>\n",
       "    <tr>\n",
       "      <th>1</th>\n",
       "      <td>6</td>\n",
       "      <td>C679458582</td>\n",
       "      <td>4</td>\n",
       "      <td>F</td>\n",
       "      <td>28007</td>\n",
       "      <td>M348934600</td>\n",
       "      <td>28007</td>\n",
       "      <td>es_transportation</td>\n",
       "      <td>56.79</td>\n",
       "      <td>0</td>\n",
       "    </tr>\n",
       "    <tr>\n",
       "      <th>2</th>\n",
       "      <td>6</td>\n",
       "      <td>C332727422</td>\n",
       "      <td>5</td>\n",
       "      <td>M</td>\n",
       "      <td>28007</td>\n",
       "      <td>M1823072687</td>\n",
       "      <td>28007</td>\n",
       "      <td>es_transportation</td>\n",
       "      <td>3.99</td>\n",
       "      <td>0</td>\n",
       "    </tr>\n",
       "    <tr>\n",
       "      <th>3</th>\n",
       "      <td>6</td>\n",
       "      <td>C1807970113</td>\n",
       "      <td>4</td>\n",
       "      <td>F</td>\n",
       "      <td>28007</td>\n",
       "      <td>M348934600</td>\n",
       "      <td>28007</td>\n",
       "      <td>es_transportation</td>\n",
       "      <td>8.24</td>\n",
       "      <td>0</td>\n",
       "    </tr>\n",
       "    <tr>\n",
       "      <th>4</th>\n",
       "      <td>6</td>\n",
       "      <td>C775533998</td>\n",
       "      <td>2</td>\n",
       "      <td>F</td>\n",
       "      <td>28007</td>\n",
       "      <td>M348934600</td>\n",
       "      <td>28007</td>\n",
       "      <td>es_transportation</td>\n",
       "      <td>22.87</td>\n",
       "      <td>0</td>\n",
       "    </tr>\n",
       "  </tbody>\n",
       "</table>\n",
       "</div>"
      ],
      "text/plain": [
       "   step     customer  age gender  zipcodeori     merchant  zipmerchant  \\\n",
       "0     6    C42779194    6      F       28007   M348934600        28007   \n",
       "1     6   C679458582    4      F       28007   M348934600        28007   \n",
       "2     6   C332727422    5      M       28007  M1823072687        28007   \n",
       "3     6  C1807970113    4      F       28007   M348934600        28007   \n",
       "4     6   C775533998    2      F       28007   M348934600        28007   \n",
       "\n",
       "            category  amount  fraud  \n",
       "0  es_transportation   43.65      0  \n",
       "1  es_transportation   56.79      0  \n",
       "2  es_transportation    3.99      0  \n",
       "3  es_transportation    8.24      0  \n",
       "4  es_transportation   22.87      0  "
      ]
     },
     "execution_count": 118,
     "metadata": {},
     "output_type": "execute_result"
    }
   ],
   "source": [
    "select_query = '''SELECT * FROM banksim_artificial'''\n",
    "\n",
    "data_df = pandas_db_server_fetch(select_query)\n",
    "data_df.head()"
   ]
  },
  {
   "cell_type": "code",
   "execution_count": 119,
   "metadata": {},
   "outputs": [
    {
     "data": {
      "text/html": [
       "<div>\n",
       "<style scoped>\n",
       "    .dataframe tbody tr th:only-of-type {\n",
       "        vertical-align: middle;\n",
       "    }\n",
       "\n",
       "    .dataframe tbody tr th {\n",
       "        vertical-align: top;\n",
       "    }\n",
       "\n",
       "    .dataframe thead th {\n",
       "        text-align: right;\n",
       "    }\n",
       "</style>\n",
       "<table border=\"1\" class=\"dataframe\">\n",
       "  <thead>\n",
       "    <tr style=\"text-align: right;\">\n",
       "      <th></th>\n",
       "      <th>step</th>\n",
       "      <th>age</th>\n",
       "      <th>zipcodeori</th>\n",
       "      <th>zipmerchant</th>\n",
       "      <th>amount</th>\n",
       "      <th>fraud</th>\n",
       "    </tr>\n",
       "  </thead>\n",
       "  <tbody>\n",
       "    <tr>\n",
       "      <th>count</th>\n",
       "      <td>594643.000000</td>\n",
       "      <td>594643.000000</td>\n",
       "      <td>594643.0</td>\n",
       "      <td>594643.0</td>\n",
       "      <td>594643.000000</td>\n",
       "      <td>594643.000000</td>\n",
       "    </tr>\n",
       "    <tr>\n",
       "      <th>mean</th>\n",
       "      <td>94.986827</td>\n",
       "      <td>3.004246</td>\n",
       "      <td>28007.0</td>\n",
       "      <td>28007.0</td>\n",
       "      <td>37.890135</td>\n",
       "      <td>0.012108</td>\n",
       "    </tr>\n",
       "    <tr>\n",
       "      <th>std</th>\n",
       "      <td>51.053632</td>\n",
       "      <td>1.324784</td>\n",
       "      <td>0.0</td>\n",
       "      <td>0.0</td>\n",
       "      <td>111.402831</td>\n",
       "      <td>0.109369</td>\n",
       "    </tr>\n",
       "    <tr>\n",
       "      <th>min</th>\n",
       "      <td>0.000000</td>\n",
       "      <td>0.000000</td>\n",
       "      <td>28007.0</td>\n",
       "      <td>28007.0</td>\n",
       "      <td>0.000000</td>\n",
       "      <td>0.000000</td>\n",
       "    </tr>\n",
       "    <tr>\n",
       "      <th>25%</th>\n",
       "      <td>52.000000</td>\n",
       "      <td>2.000000</td>\n",
       "      <td>28007.0</td>\n",
       "      <td>28007.0</td>\n",
       "      <td>13.740000</td>\n",
       "      <td>0.000000</td>\n",
       "    </tr>\n",
       "    <tr>\n",
       "      <th>50%</th>\n",
       "      <td>97.000000</td>\n",
       "      <td>3.000000</td>\n",
       "      <td>28007.0</td>\n",
       "      <td>28007.0</td>\n",
       "      <td>26.900000</td>\n",
       "      <td>0.000000</td>\n",
       "    </tr>\n",
       "    <tr>\n",
       "      <th>75%</th>\n",
       "      <td>139.000000</td>\n",
       "      <td>4.000000</td>\n",
       "      <td>28007.0</td>\n",
       "      <td>28007.0</td>\n",
       "      <td>42.540000</td>\n",
       "      <td>0.000000</td>\n",
       "    </tr>\n",
       "    <tr>\n",
       "      <th>max</th>\n",
       "      <td>179.000000</td>\n",
       "      <td>6.000000</td>\n",
       "      <td>28007.0</td>\n",
       "      <td>28007.0</td>\n",
       "      <td>8329.960000</td>\n",
       "      <td>1.000000</td>\n",
       "    </tr>\n",
       "  </tbody>\n",
       "</table>\n",
       "</div>"
      ],
      "text/plain": [
       "                step            age  zipcodeori  zipmerchant         amount  \\\n",
       "count  594643.000000  594643.000000    594643.0     594643.0  594643.000000   \n",
       "mean       94.986827       3.004246     28007.0      28007.0      37.890135   \n",
       "std        51.053632       1.324784         0.0          0.0     111.402831   \n",
       "min         0.000000       0.000000     28007.0      28007.0       0.000000   \n",
       "25%        52.000000       2.000000     28007.0      28007.0      13.740000   \n",
       "50%        97.000000       3.000000     28007.0      28007.0      26.900000   \n",
       "75%       139.000000       4.000000     28007.0      28007.0      42.540000   \n",
       "max       179.000000       6.000000     28007.0      28007.0    8329.960000   \n",
       "\n",
       "               fraud  \n",
       "count  594643.000000  \n",
       "mean        0.012108  \n",
       "std         0.109369  \n",
       "min         0.000000  \n",
       "25%         0.000000  \n",
       "50%         0.000000  \n",
       "75%         0.000000  \n",
       "max         1.000000  "
      ]
     },
     "execution_count": 119,
     "metadata": {},
     "output_type": "execute_result"
    }
   ],
   "source": [
    "data_df.describe()"
   ]
  },
  {
   "cell_type": "code",
   "execution_count": 121,
   "metadata": {},
   "outputs": [
    {
     "data": {
      "text/plain": [
       "step             int64\n",
       "customer        object\n",
       "age              int64\n",
       "gender          object\n",
       "zipcodeori       int64\n",
       "merchant        object\n",
       "zipmerchant      int64\n",
       "category        object\n",
       "amount         float64\n",
       "fraud            int64\n",
       "dtype: object"
      ]
     },
     "execution_count": 121,
     "metadata": {},
     "output_type": "execute_result"
    }
   ],
   "source": [
    "data_df.dtypes"
   ]
  },
  {
   "cell_type": "code",
   "execution_count": 124,
   "metadata": {},
   "outputs": [
    {
     "data": {
      "text/html": [
       "<div>\n",
       "<style scoped>\n",
       "    .dataframe tbody tr th:only-of-type {\n",
       "        vertical-align: middle;\n",
       "    }\n",
       "\n",
       "    .dataframe tbody tr th {\n",
       "        vertical-align: top;\n",
       "    }\n",
       "\n",
       "    .dataframe thead th {\n",
       "        text-align: right;\n",
       "    }\n",
       "</style>\n",
       "<table border=\"1\" class=\"dataframe\">\n",
       "  <thead>\n",
       "    <tr style=\"text-align: right;\">\n",
       "      <th></th>\n",
       "      <th>step</th>\n",
       "      <th>customer</th>\n",
       "      <th>age</th>\n",
       "      <th>gender</th>\n",
       "      <th>zipcodeori</th>\n",
       "      <th>merchant</th>\n",
       "      <th>zipmerchant</th>\n",
       "      <th>category</th>\n",
       "      <th>amount</th>\n",
       "      <th>fraud</th>\n",
       "    </tr>\n",
       "  </thead>\n",
       "  <tbody>\n",
       "    <tr>\n",
       "      <th>0</th>\n",
       "      <td>False</td>\n",
       "      <td>False</td>\n",
       "      <td>False</td>\n",
       "      <td>False</td>\n",
       "      <td>False</td>\n",
       "      <td>False</td>\n",
       "      <td>False</td>\n",
       "      <td>False</td>\n",
       "      <td>False</td>\n",
       "      <td>False</td>\n",
       "    </tr>\n",
       "    <tr>\n",
       "      <th>1</th>\n",
       "      <td>False</td>\n",
       "      <td>False</td>\n",
       "      <td>False</td>\n",
       "      <td>False</td>\n",
       "      <td>False</td>\n",
       "      <td>False</td>\n",
       "      <td>False</td>\n",
       "      <td>False</td>\n",
       "      <td>False</td>\n",
       "      <td>False</td>\n",
       "    </tr>\n",
       "    <tr>\n",
       "      <th>2</th>\n",
       "      <td>False</td>\n",
       "      <td>False</td>\n",
       "      <td>False</td>\n",
       "      <td>False</td>\n",
       "      <td>False</td>\n",
       "      <td>False</td>\n",
       "      <td>False</td>\n",
       "      <td>False</td>\n",
       "      <td>False</td>\n",
       "      <td>False</td>\n",
       "    </tr>\n",
       "    <tr>\n",
       "      <th>3</th>\n",
       "      <td>False</td>\n",
       "      <td>False</td>\n",
       "      <td>False</td>\n",
       "      <td>False</td>\n",
       "      <td>False</td>\n",
       "      <td>False</td>\n",
       "      <td>False</td>\n",
       "      <td>False</td>\n",
       "      <td>False</td>\n",
       "      <td>False</td>\n",
       "    </tr>\n",
       "    <tr>\n",
       "      <th>4</th>\n",
       "      <td>False</td>\n",
       "      <td>False</td>\n",
       "      <td>False</td>\n",
       "      <td>False</td>\n",
       "      <td>False</td>\n",
       "      <td>False</td>\n",
       "      <td>False</td>\n",
       "      <td>False</td>\n",
       "      <td>False</td>\n",
       "      <td>False</td>\n",
       "    </tr>\n",
       "    <tr>\n",
       "      <th>...</th>\n",
       "      <td>...</td>\n",
       "      <td>...</td>\n",
       "      <td>...</td>\n",
       "      <td>...</td>\n",
       "      <td>...</td>\n",
       "      <td>...</td>\n",
       "      <td>...</td>\n",
       "      <td>...</td>\n",
       "      <td>...</td>\n",
       "      <td>...</td>\n",
       "    </tr>\n",
       "    <tr>\n",
       "      <th>594638</th>\n",
       "      <td>False</td>\n",
       "      <td>False</td>\n",
       "      <td>False</td>\n",
       "      <td>False</td>\n",
       "      <td>False</td>\n",
       "      <td>False</td>\n",
       "      <td>False</td>\n",
       "      <td>False</td>\n",
       "      <td>False</td>\n",
       "      <td>False</td>\n",
       "    </tr>\n",
       "    <tr>\n",
       "      <th>594639</th>\n",
       "      <td>False</td>\n",
       "      <td>False</td>\n",
       "      <td>False</td>\n",
       "      <td>False</td>\n",
       "      <td>False</td>\n",
       "      <td>False</td>\n",
       "      <td>False</td>\n",
       "      <td>False</td>\n",
       "      <td>False</td>\n",
       "      <td>False</td>\n",
       "    </tr>\n",
       "    <tr>\n",
       "      <th>594640</th>\n",
       "      <td>False</td>\n",
       "      <td>False</td>\n",
       "      <td>False</td>\n",
       "      <td>False</td>\n",
       "      <td>False</td>\n",
       "      <td>False</td>\n",
       "      <td>False</td>\n",
       "      <td>False</td>\n",
       "      <td>False</td>\n",
       "      <td>False</td>\n",
       "    </tr>\n",
       "    <tr>\n",
       "      <th>594641</th>\n",
       "      <td>False</td>\n",
       "      <td>False</td>\n",
       "      <td>False</td>\n",
       "      <td>False</td>\n",
       "      <td>False</td>\n",
       "      <td>False</td>\n",
       "      <td>False</td>\n",
       "      <td>False</td>\n",
       "      <td>False</td>\n",
       "      <td>False</td>\n",
       "    </tr>\n",
       "    <tr>\n",
       "      <th>594642</th>\n",
       "      <td>False</td>\n",
       "      <td>False</td>\n",
       "      <td>False</td>\n",
       "      <td>False</td>\n",
       "      <td>False</td>\n",
       "      <td>False</td>\n",
       "      <td>False</td>\n",
       "      <td>False</td>\n",
       "      <td>False</td>\n",
       "      <td>False</td>\n",
       "    </tr>\n",
       "  </tbody>\n",
       "</table>\n",
       "<p>594643 rows × 10 columns</p>\n",
       "</div>"
      ],
      "text/plain": [
       "         step  customer    age  gender  zipcodeori  merchant  zipmerchant  \\\n",
       "0       False     False  False   False       False     False        False   \n",
       "1       False     False  False   False       False     False        False   \n",
       "2       False     False  False   False       False     False        False   \n",
       "3       False     False  False   False       False     False        False   \n",
       "4       False     False  False   False       False     False        False   \n",
       "...       ...       ...    ...     ...         ...       ...          ...   \n",
       "594638  False     False  False   False       False     False        False   \n",
       "594639  False     False  False   False       False     False        False   \n",
       "594640  False     False  False   False       False     False        False   \n",
       "594641  False     False  False   False       False     False        False   \n",
       "594642  False     False  False   False       False     False        False   \n",
       "\n",
       "        category  amount  fraud  \n",
       "0          False   False  False  \n",
       "1          False   False  False  \n",
       "2          False   False  False  \n",
       "3          False   False  False  \n",
       "4          False   False  False  \n",
       "...          ...     ...    ...  \n",
       "594638     False   False  False  \n",
       "594639     False   False  False  \n",
       "594640     False   False  False  \n",
       "594641     False   False  False  \n",
       "594642     False   False  False  \n",
       "\n",
       "[594643 rows x 10 columns]"
      ]
     },
     "execution_count": 124,
     "metadata": {},
     "output_type": "execute_result"
    }
   ],
   "source": [
    "data_df.isna()"
   ]
  },
  {
   "cell_type": "code",
   "execution_count": 125,
   "metadata": {},
   "outputs": [
    {
     "data": {
      "text/plain": [
       "step           0\n",
       "customer       0\n",
       "age            0\n",
       "gender         0\n",
       "zipcodeori     0\n",
       "merchant       0\n",
       "zipmerchant    0\n",
       "category       0\n",
       "amount         0\n",
       "fraud          0\n",
       "dtype: int64"
      ]
     },
     "execution_count": 125,
     "metadata": {},
     "output_type": "execute_result"
    }
   ],
   "source": [
    "data_df.isna().sum()"
   ]
  },
  {
   "cell_type": "markdown",
   "metadata": {},
   "source": [
    "# Load"
   ]
  },
  {
   "cell_type": "markdown",
   "metadata": {},
   "source": [
    "## -Migrating PostgreSQL Data from Local to Google Cloud SQL"
   ]
  },
  {
   "cell_type": "code",
   "execution_count": 127,
   "metadata": {},
   "outputs": [],
   "source": [
    "from google.cloud import storage"
   ]
  },
  {
   "cell_type": "markdown",
   "metadata": {},
   "source": [
    "### make storage bucket gcs"
   ]
  },
  {
   "cell_type": "code",
   "execution_count": 152,
   "metadata": {},
   "outputs": [],
   "source": [
    "service_account_file = r'S:\\Data Fellowship\\code\\Weekly_Assignment\\key_week1.json'"
   ]
  },
  {
   "cell_type": "code",
   "execution_count": 135,
   "metadata": {},
   "outputs": [],
   "source": [
    "def create_gcs_bucket(project_id, bucket_name, service_account_file):\n",
    "    from google.cloud import storage\n",
    "\n",
    "    \"\"\"\n",
    "    project_id (str): Your Google Cloud Platform (GCP) project ID.\n",
    "    bucket_name (str): Name of the new bucket to be created.\n",
    "    service_account_file (str): Your service account JSON key file\n",
    "    \"\"\"\n",
    "    \n",
    "    try:\n",
    "        # Initialize a GCS client\n",
    "        client = storage.Client.from_service_account_json(service_account_file)\n",
    "\n",
    "        # Create a new bucket\n",
    "        bucket = client.create_bucket(bucket_name)\n",
    "\n",
    "        print(f'Bucket {bucket_name} created successfully.')\n",
    "    \n",
    "    except Exception as e:\n",
    "        print(f'Error creating bucket: {str(e)}')\n"
   ]
  },
  {
   "cell_type": "markdown",
   "metadata": {},
   "source": [
    "### upload file to gcs"
   ]
  },
  {
   "cell_type": "code",
   "execution_count": 136,
   "metadata": {},
   "outputs": [
    {
     "name": "stdout",
     "output_type": "stream",
     "text": [
      "Bucket weekly-assignment1 created successfully.\n"
     ]
    }
   ],
   "source": [
    "create_gcs_bucket('iconic-indexer-418610', 'weekly-assignment1', service_account_file)"
   ]
  },
  {
   "cell_type": "code",
   "execution_count": 154,
   "metadata": {},
   "outputs": [
    {
     "name": "stdout",
     "output_type": "stream",
     "text": [
      "SQL file 'S:\\Data Fellowship\\code\\Weekly_Assignment\\banksim_artificial_table.sql' uploaded to GCS as 'banksim_artificial.sql'.\n"
     ]
    }
   ],
   "source": [
    "def upload_sql_to_gcs(bucket_name, local_sql_file_path, remote_gcs_file_name):\n",
    "    # Initialize the GCS client\n",
    "    storage_client = storage.Client.from_service_account_json(service_account_file)\n",
    "\n",
    "    # Get the GCS bucket\n",
    "    bucket = storage_client.get_bucket(bucket_name)\n",
    "\n",
    "    # Create a blob (remote file) in the bucket\n",
    "    blob = bucket.blob(remote_gcs_file_name)\n",
    "\n",
    "    # Upload the local SQL file to GCS\n",
    "    blob.upload_from_filename(local_sql_file_path)\n",
    "\n",
    "    print(f\"SQL file '{local_sql_file_path}' uploaded to GCS as '{remote_gcs_file_name}'.\")\n",
    "\n",
    "# Example usage\n",
    "bucket_name = 'weekly-assignment1'\n",
    "local_sql_file_path = r'S:\\Data Fellowship\\code\\Weekly_Assignment\\banksim_artificial_table.sql'\n",
    "remote_gcs_file_name = 'banksim_artificial.sql'\n",
    "\n",
    "upload_sql_to_gcs(bucket_name, local_sql_file_path, remote_gcs_file_name)"
   ]
  },
  {
   "cell_type": "markdown",
   "metadata": {},
   "source": [
    "# Proses selanjutnya untuk proses di cloud akan dijelaskan di dokumentasi pada:\n",
    "\n",
    "[Link to Weekly Assignment 5 section](https://seed-waitress-434.notion.site/Weekly-Assignment-5-bbcd21d9fec04b50881fcd3b3c43607f?pvs=4)\n"
   ]
  }
 ],
 "metadata": {
  "kernelspec": {
   "display_name": "Python 3",
   "language": "python",
   "name": "python3"
  },
  "language_info": {
   "codemirror_mode": {
    "name": "ipython",
    "version": 3
   },
   "file_extension": ".py",
   "mimetype": "text/x-python",
   "name": "python",
   "nbconvert_exporter": "python",
   "pygments_lexer": "ipython3",
   "version": "3.9.6"
  }
 },
 "nbformat": 4,
 "nbformat_minor": 2
}
